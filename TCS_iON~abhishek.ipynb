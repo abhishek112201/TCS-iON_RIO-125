{
  "nbformat": 4,
  "nbformat_minor": 0,
  "metadata": {
    "colab": {
      "name": "TCS iON~abhishek.ipynb",
      "provenance": [],
      "collapsed_sections": [],
      "include_colab_link": true
    },
    "kernelspec": {
      "name": "python3",
      "display_name": "Python 3"
    },
    "accelerator": "GPU"
  },
  "cells": [
    {
      "cell_type": "markdown",
      "metadata": {
        "id": "view-in-github",
        "colab_type": "text"
      },
      "source": [
        "<a href=\"https://colab.research.google.com/github/abhishek112201/TCS-iON_RIO-125/blob/master/TCS_iON~abhishek.ipynb\" target=\"_parent\"><img src=\"https://colab.research.google.com/assets/colab-badge.svg\" alt=\"Open In Colab\"/></a>"
      ]
    },
    {
      "cell_type": "markdown",
      "metadata": {
        "id": "kdOALLHgMu7f",
        "colab_type": "text"
      },
      "source": [
        "**Name:** ABHISHEK KUMAR\n",
        "\n",
        "**Internship Project Topic:** AUTOMATE EXTRACTION OF HANDWRITTEN TEXT FROM AN IMAGE.\n",
        "\n",
        "**Name of the Organization:** TCS iON\n",
        "\n",
        "**Name of the Industry Mentor:** ANAMIKA CHATTERJEE\n",
        "\n",
        "**Name of the Institute:** GALGOTIAS UNIVERSITY"
      ]
    },
    {
      "cell_type": "markdown",
      "metadata": {
        "id": "4-yKpihT25p8",
        "colab_type": "text"
      },
      "source": [
        "## **Installation:** This is the installation guide module.\n",
        "### You have to install all dependencies given below one by one."
      ]
    },
    {
      "cell_type": "code",
      "metadata": {
        "id": "Iup9C5Lon-g0",
        "colab_type": "code",
        "colab": {
          "base_uri": "https://localhost:8080/",
          "height": 638
        },
        "outputId": "d6d1be8c-95d8-457c-9f69-73cc2d9fb470"
      },
      "source": [
        "!sudo add-apt-repository ppa:alex-p/tesseract-ocr"
      ],
      "execution_count": 1,
      "outputs": [
        {
          "output_type": "stream",
          "text": [
            "  The Tesseract OCR engine was one of the top 3 engines in the 1995\n",
            " UNLV Accuracy test. Between 1995 and 2006 it had little work done on\n",
            " it, but since then it has been improved extensively by Google and is\n",
            " probably one of the most accurate open source OCR engines\n",
            " available. It can read a wide variety of image formats and convert\n",
            " them to text in over 40 languages. This package includes the command\n",
            " line tool.\n",
            " More info: https://launchpad.net/~alex-p/+archive/ubuntu/tesseract-ocr\n",
            "Press [ENTER] to continue or Ctrl-c to cancel adding it.\n",
            "ppa:alex-p/tesseract-ocr\n",
            "Get:1 http://ppa.launchpad.net/alex-p/tesseract-ocr/ubuntu bionic InRelease [15.4 kB]\n",
            "Hit:2 http://archive.ubuntu.com/ubuntu bionic InRelease\n",
            "Get:3 http://security.ubuntu.com/ubuntu bionic-security InRelease [88.7 kB]\n",
            "Get:4 http://archive.ubuntu.com/ubuntu bionic-updates InRelease [88.7 kB]\n",
            "Hit:5 http://ppa.launchpad.net/graphics-drivers/ppa/ubuntu bionic InRelease\n",
            "Get:6 https://cloud.r-project.org/bin/linux/ubuntu bionic-cran35/ InRelease [3,626 B]\n",
            "Get:7 http://ppa.launchpad.net/marutter/c2d4u3.5/ubuntu bionic InRelease [15.4 kB]\n",
            "Get:8 http://archive.ubuntu.com/ubuntu bionic-backports InRelease [74.6 kB]\n",
            "Ign:9 https://developer.download.nvidia.com/compute/cuda/repos/ubuntu1804/x86_64  InRelease\n",
            "Get:10 http://ppa.launchpad.net/alex-p/tesseract-ocr/ubuntu bionic/main amd64 Packages [26.5 kB]\n",
            "Ign:11 https://developer.download.nvidia.com/compute/machine-learning/repos/ubuntu1804/x86_64  InRelease\n",
            "Get:12 https://developer.download.nvidia.com/compute/cuda/repos/ubuntu1804/x86_64  Release [697 B]\n",
            "Hit:13 https://developer.download.nvidia.com/compute/machine-learning/repos/ubuntu1804/x86_64  Release\n",
            "Get:14 https://developer.download.nvidia.com/compute/cuda/repos/ubuntu1804/x86_64  Release.gpg [836 B]\n",
            "Get:15 http://security.ubuntu.com/ubuntu bionic-security/universe amd64 Packages [884 kB]\n",
            "Get:16 http://security.ubuntu.com/ubuntu bionic-security/main amd64 Packages [1,038 kB]\n",
            "Get:17 http://security.ubuntu.com/ubuntu bionic-security/multiverse amd64 Packages [9,558 B]\n",
            "Get:18 http://ppa.launchpad.net/marutter/c2d4u3.5/ubuntu bionic/main Sources [1,857 kB]\n",
            "Get:19 http://ppa.launchpad.net/marutter/c2d4u3.5/ubuntu bionic/main amd64 Packages [896 kB]\n",
            "Get:20 http://archive.ubuntu.com/ubuntu bionic-updates/main amd64 Packages [1,336 kB]\n",
            "Get:21 http://archive.ubuntu.com/ubuntu bionic-updates/restricted amd64 Packages [116 kB]\n",
            "Get:22 http://archive.ubuntu.com/ubuntu bionic-updates/multiverse amd64 Packages [27.1 kB]\n",
            "Get:23 http://archive.ubuntu.com/ubuntu bionic-updates/universe amd64 Packages [1,413 kB]\n",
            "Ign:25 https://developer.download.nvidia.com/compute/cuda/repos/ubuntu1804/x86_64  Packages\n",
            "Get:25 https://developer.download.nvidia.com/compute/cuda/repos/ubuntu1804/x86_64  Packages [255 kB]\n",
            "Fetched 8,146 kB in 1s (6,101 kB/s)\n",
            "Reading package lists... Done\n"
          ],
          "name": "stdout"
        }
      ]
    },
    {
      "cell_type": "code",
      "metadata": {
        "id": "RxADPcEA39z-",
        "colab_type": "code",
        "colab": {
          "base_uri": "https://localhost:8080/",
          "height": 235
        },
        "outputId": "4e6f09bb-78ac-4bd6-d8c5-487cf9863c8b"
      },
      "source": [
        "!sudo apt-get update"
      ],
      "execution_count": 2,
      "outputs": [
        {
          "output_type": "stream",
          "text": [
            "\r0% [Working]\r            \rHit:1 http://ppa.launchpad.net/alex-p/tesseract-ocr/ubuntu bionic InRelease\n",
            "\r0% [Connecting to archive.ubuntu.com (91.189.88.152)] [Waiting for headers] [Co\r                                                                               \rHit:2 http://security.ubuntu.com/ubuntu bionic-security InRelease\n",
            "\r0% [Waiting for headers] [Connected to cloud.r-project.org (13.227.223.63)] [Co\r0% [1 InRelease gpgv 15.4 kB] [Waiting for headers] [Connected to cloud.r-proje\r                                                                               \rHit:3 http://archive.ubuntu.com/ubuntu bionic InRelease\n",
            "\r0% [1 InRelease gpgv 15.4 kB] [Waiting for headers] [Connected to cloud.r-proje\r                                                                               \rHit:4 http://ppa.launchpad.net/graphics-drivers/ppa/ubuntu bionic InRelease\n",
            "\r0% [1 InRelease gpgv 15.4 kB] [Waiting for headers] [Connected to cloud.r-proje\r                                                                               \rHit:5 http://archive.ubuntu.com/ubuntu bionic-updates InRelease\n",
            "\r0% [1 InRelease gpgv 15.4 kB] [Waiting for headers] [Connected to cloud.r-proje\r                                                                               \rHit:6 https://cloud.r-project.org/bin/linux/ubuntu bionic-cran35/ InRelease\n",
            "\r0% [1 InRelease gpgv 15.4 kB] [Waiting for headers] [Waiting for headers] [Wait\r                                                                               \rHit:7 http://archive.ubuntu.com/ubuntu bionic-backports InRelease\n",
            "\r                                                                               \r0% [1 InRelease gpgv 15.4 kB] [Waiting for headers] [Waiting for headers]\r                                                                         \rHit:8 http://ppa.launchpad.net/marutter/c2d4u3.5/ubuntu bionic InRelease\n",
            "\r                                                                         \r0% [1 InRelease gpgv 15.4 kB] [Waiting for headers]\r                                                   \r0% [Waiting for headers]\r0% [2 InRelease gpgv 88.7 kB] [Waiting for headers]\r                                                   \r0% [Waiting for headers]\r0% [3 InRelease gpgv 242 kB] [Waiting for headers]\r                                                  \rIgn:9 https://developer.download.nvidia.com/compute/cuda/repos/ubuntu1804/x86_64  InRelease\n",
            "\r0% [3 InRelease gpgv 242 kB] [Waiting for headers]\r                                                  \r0% [Waiting for headers]\r0% [4 InRelease gpgv 21.3 kB] [Waiting for headers]\r                                                   \r0% [Waiting for headers]\r0% [5 InRelease gpgv 88.7 kB] [Waiting for headers]\r                                                   \rIgn:10 https://developer.download.nvidia.com/compute/machine-learning/repos/ubuntu1804/x86_64  InRelease\n",
            "\r                                                   \r0% [5 InRelease gpgv 88.7 kB]\r                             \rHit:11 https://developer.download.nvidia.com/compute/cuda/repos/ubuntu1804/x86_64  Release\n",
            "Hit:12 https://developer.download.nvidia.com/compute/machine-learning/repos/ubuntu1804/x86_64  Release\n",
            "Reading package lists... Done\n"
          ],
          "name": "stdout"
        }
      ]
    },
    {
      "cell_type": "code",
      "metadata": {
        "id": "bOQf0ryh3_8d",
        "colab_type": "code",
        "colab": {
          "base_uri": "https://localhost:8080/",
          "height": 806
        },
        "outputId": "d18939b6-6957-4938-812e-d6dcf2aea222"
      },
      "source": [
        "!sudo apt install tesseract-ocr"
      ],
      "execution_count": 3,
      "outputs": [
        {
          "output_type": "stream",
          "text": [
            "Reading package lists... Done\n",
            "Building dependency tree       \n",
            "Reading state information... Done\n",
            "The following package was automatically installed and is no longer required:\n",
            "  libnvidia-common-440\n",
            "Use 'sudo apt autoremove' to remove it.\n",
            "The following additional packages will be installed:\n",
            "  libtesseract4 tesseract-ocr-eng tesseract-ocr-osd\n",
            "The following NEW packages will be installed:\n",
            "  tesseract-ocr tesseract-ocr-eng tesseract-ocr-osd\n",
            "The following packages will be upgraded:\n",
            "  libtesseract4\n",
            "1 upgraded, 3 newly installed, 0 to remove and 55 not upgraded.\n",
            "Need to get 6,161 kB of archives.\n",
            "After this operation, 16.3 MB of additional disk space will be used.\n",
            "Get:1 http://ppa.launchpad.net/alex-p/tesseract-ocr/ubuntu bionic/main amd64 libtesseract4 amd64 4.1.1+git4247-97079fa3-1ppa1~bionic1 [1,260 kB]\n",
            "Get:2 http://ppa.launchpad.net/alex-p/tesseract-ocr/ubuntu bionic/main amd64 tesseract-ocr-eng all 1:4.0.0+git39-6572757-1ppa1~bionic1 [1,589 kB]\n",
            "Get:3 http://ppa.launchpad.net/alex-p/tesseract-ocr/ubuntu bionic/main amd64 tesseract-ocr-osd all 1:4.0.0+git39-6572757-1ppa1~bionic1 [2,992 kB]\n",
            "Get:4 http://ppa.launchpad.net/alex-p/tesseract-ocr/ubuntu bionic/main amd64 tesseract-ocr amd64 4.1.1+git4247-97079fa3-1ppa1~bionic1 [320 kB]\n",
            "Fetched 6,161 kB in 0s (15.8 MB/s)\n",
            "debconf: unable to initialize frontend: Dialog\n",
            "debconf: (No usable dialog-like program is installed, so the dialog based frontend cannot be used. at /usr/share/perl5/Debconf/FrontEnd/Dialog.pm line 76, <> line 4.)\n",
            "debconf: falling back to frontend: Readline\n",
            "debconf: unable to initialize frontend: Readline\n",
            "debconf: (This frontend requires a controlling tty.)\n",
            "debconf: falling back to frontend: Teletype\n",
            "dpkg-preconfigure: unable to re-open stdin: \n",
            "(Reading database ... 144487 files and directories currently installed.)\n",
            "Preparing to unpack .../libtesseract4_4.1.1+git4247-97079fa3-1ppa1~bionic1_amd64.deb ...\n",
            "Unpacking libtesseract4:amd64 (4.1.1+git4247-97079fa3-1ppa1~bionic1) over (4.00~git2288-10f4998a-2) ...\n",
            "Selecting previously unselected package tesseract-ocr-eng.\n",
            "Preparing to unpack .../tesseract-ocr-eng_1%3a4.0.0+git39-6572757-1ppa1~bionic1_all.deb ...\n",
            "Unpacking tesseract-ocr-eng (1:4.0.0+git39-6572757-1ppa1~bionic1) ...\n",
            "Selecting previously unselected package tesseract-ocr-osd.\n",
            "Preparing to unpack .../tesseract-ocr-osd_1%3a4.0.0+git39-6572757-1ppa1~bionic1_all.deb ...\n",
            "Unpacking tesseract-ocr-osd (1:4.0.0+git39-6572757-1ppa1~bionic1) ...\n",
            "Selecting previously unselected package tesseract-ocr.\n",
            "Preparing to unpack .../tesseract-ocr_4.1.1+git4247-97079fa3-1ppa1~bionic1_amd64.deb ...\n",
            "Unpacking tesseract-ocr (4.1.1+git4247-97079fa3-1ppa1~bionic1) ...\n",
            "Setting up libtesseract4:amd64 (4.1.1+git4247-97079fa3-1ppa1~bionic1) ...\n",
            "Setting up tesseract-ocr-osd (1:4.0.0+git39-6572757-1ppa1~bionic1) ...\n",
            "Setting up tesseract-ocr-eng (1:4.0.0+git39-6572757-1ppa1~bionic1) ...\n",
            "Setting up tesseract-ocr (4.1.1+git4247-97079fa3-1ppa1~bionic1) ...\n",
            "Processing triggers for man-db (2.8.3-2ubuntu0.1) ...\n",
            "Processing triggers for libc-bin (2.27-3ubuntu1) ...\n",
            "/sbin/ldconfig.real: /usr/local/lib/python3.6/dist-packages/ideep4py/lib/libmkldnn.so.0 is not a symbolic link\n",
            "\n"
          ],
          "name": "stdout"
        }
      ]
    },
    {
      "cell_type": "code",
      "metadata": {
        "id": "qUkfdeTq4Bta",
        "colab_type": "code",
        "colab": {
          "base_uri": "https://localhost:8080/",
          "height": 806
        },
        "outputId": "595961b3-fbc9-481f-af58-491567bd57d7"
      },
      "source": [
        "!sudo apt install libtesseract-dev"
      ],
      "execution_count": 4,
      "outputs": [
        {
          "output_type": "stream",
          "text": [
            "\rReading package lists... 0%\r\rReading package lists... 0%\r\rReading package lists... 0%\r\rReading package lists... 6%\r\rReading package lists... 6%\r\rReading package lists... 6%\r\rReading package lists... 6%\r\rReading package lists... 60%\r\rReading package lists... 60%\r\rReading package lists... 61%\r\rReading package lists... 61%\r\rReading package lists... 69%\r\rReading package lists... 69%\r\rReading package lists... 70%\r\rReading package lists... 70%\r\rReading package lists... 78%\r\rReading package lists... 79%\r\rReading package lists... 79%\r\rReading package lists... 79%\r\rReading package lists... 79%\r\rReading package lists... 79%\r\rReading package lists... 79%\r\rReading package lists... 79%\r\rReading package lists... 79%\r\rReading package lists... 86%\r\rReading package lists... 86%\r\rReading package lists... 87%\r\rReading package lists... 87%\r\rReading package lists... 92%\r\rReading package lists... 92%\r\rReading package lists... 92%\r\rReading package lists... 92%\r\rReading package lists... 93%\r\rReading package lists... 93%\r\rReading package lists... 93%\r\rReading package lists... 93%\r\rReading package lists... 94%\r\rReading package lists... 94%\r\rReading package lists... 95%\r\rReading package lists... 95%\r\rReading package lists... 98%\r\rReading package lists... 98%\r\rReading package lists... 98%\r\rReading package lists... 98%\r\rReading package lists... Done\r\n",
            "\rBuilding dependency tree... 0%\r\rBuilding dependency tree... 0%\r\rBuilding dependency tree... 50%\r\rBuilding dependency tree... 50%\r\rBuilding dependency tree       \r\n",
            "\rReading state information... 0%\r\rReading state information... 0%\r\rReading state information... Done\r\n",
            "The following package was automatically installed and is no longer required:\n",
            "  libnvidia-common-440\n",
            "Use 'sudo apt autoremove' to remove it.\n",
            "The following additional packages will be installed:\n",
            "  libarchive-dev liblept5 libleptonica-dev\n",
            "The following NEW packages will be installed:\n",
            "  libarchive-dev libleptonica-dev libtesseract-dev\n",
            "The following packages will be upgraded:\n",
            "  liblept5\n",
            "1 upgraded, 3 newly installed, 0 to remove and 54 not upgraded.\n",
            "Need to get 4,327 kB of archives.\n",
            "After this operation, 15.2 MB of additional disk space will be used.\n",
            "\u001b[33m\r0% [Working]\u001b[0m\r            \rGet:1 http://ppa.launchpad.net/alex-p/tesseract-ocr/ubuntu bionic/main amd64 liblept5 amd64 1.78.0-1+nmu1ppa1~bionic1 [985 kB]\n",
            "Get:2 http://archive.ubuntu.com/ubuntu bionic-updates/main amd64 libarchive-dev amd64 3.2.2-3.1ubuntu0.6 [470 kB]\n",
            "Get:3 http://ppa.launchpad.net/alex-p/tesseract-ocr/ubuntu bionic/main amd64 libleptonica-dev amd64 1.78.0-1+nmu1ppa1~bionic1 [1,375 kB]\n",
            "Get:4 http://ppa.launchpad.net/alex-p/tesseract-ocr/ubuntu bionic/main amd64 libtesseract-dev amd64 4.1.1+git4247-97079fa3-1ppa1~bionic1 [1,496 kB]\n",
            "Fetched 4,327 kB in 0s (9,095 kB/s)\n",
            "debconf: unable to initialize frontend: Dialog\n",
            "debconf: (No usable dialog-like program is installed, so the dialog based frontend cannot be used. at /usr/share/perl5/Debconf/FrontEnd/Dialog.pm line 76, <> line 4.)\n",
            "debconf: falling back to frontend: Readline\n",
            "debconf: unable to initialize frontend: Readline\n",
            "debconf: (This frontend requires a controlling tty.)\n",
            "debconf: falling back to frontend: Teletype\n",
            "dpkg-preconfigure: unable to re-open stdin: \n",
            "Selecting previously unselected package libarchive-dev:amd64.\n",
            "(Reading database ... 144539 files and directories currently installed.)\n",
            "Preparing to unpack .../libarchive-dev_3.2.2-3.1ubuntu0.6_amd64.deb ...\n",
            "Unpacking libarchive-dev:amd64 (3.2.2-3.1ubuntu0.6) ...\n",
            "Preparing to unpack .../liblept5_1.78.0-1+nmu1ppa1~bionic1_amd64.deb ...\n",
            "Unpacking liblept5 (1.78.0-1+nmu1ppa1~bionic1) over (1.75.3-3) ...\n",
            "Selecting previously unselected package libleptonica-dev.\n",
            "Preparing to unpack .../libleptonica-dev_1.78.0-1+nmu1ppa1~bionic1_amd64.deb ...\n",
            "Unpacking libleptonica-dev (1.78.0-1+nmu1ppa1~bionic1) ...\n",
            "Selecting previously unselected package libtesseract-dev:amd64.\n",
            "Preparing to unpack .../libtesseract-dev_4.1.1+git4247-97079fa3-1ppa1~bionic1_amd64.deb ...\n",
            "Unpacking libtesseract-dev:amd64 (4.1.1+git4247-97079fa3-1ppa1~bionic1) ...\n",
            "Setting up liblept5 (1.78.0-1+nmu1ppa1~bionic1) ...\n",
            "Setting up libarchive-dev:amd64 (3.2.2-3.1ubuntu0.6) ...\n",
            "Setting up libleptonica-dev (1.78.0-1+nmu1ppa1~bionic1) ...\n",
            "Setting up libtesseract-dev:amd64 (4.1.1+git4247-97079fa3-1ppa1~bionic1) ...\n",
            "Processing triggers for libc-bin (2.27-3ubuntu1) ...\n",
            "/sbin/ldconfig.real: /usr/local/lib/python3.6/dist-packages/ideep4py/lib/libmkldnn.so.0 is not a symbolic link\n",
            "\n",
            "Processing triggers for man-db (2.8.3-2ubuntu0.1) ...\n"
          ],
          "name": "stdout"
        }
      ]
    },
    {
      "cell_type": "code",
      "metadata": {
        "id": "8gSJiO8E4DT6",
        "colab_type": "code",
        "colab": {
          "base_uri": "https://localhost:8080/",
          "height": 185
        },
        "outputId": "9f570fe4-71cb-4e46-d93a-66831111aa71"
      },
      "source": [
        "!sudo pip install pytesseract"
      ],
      "execution_count": 5,
      "outputs": [
        {
          "output_type": "stream",
          "text": [
            "Collecting pytesseract\n",
            "  Downloading https://files.pythonhosted.org/packages/ba/19/c4c09496657920a859aca0e95db41da5fa6299d1693d7e7ab8ac96677198/pytesseract-0.3.5.tar.gz\n",
            "Requirement already satisfied: Pillow in /usr/local/lib/python3.6/dist-packages (from pytesseract) (7.0.0)\n",
            "Building wheels for collected packages: pytesseract\n",
            "  Building wheel for pytesseract (setup.py) ... \u001b[?25l\u001b[?25hdone\n",
            "  Created wheel for pytesseract: filename=pytesseract-0.3.5-py2.py3-none-any.whl size=13402 sha256=ac6a02886416ab161c612266ea34751d4dd7c6a3bfa02d64dd52c9f3556bb340\n",
            "  Stored in directory: /root/.cache/pip/wheels/4c/57/f5/4e60154cc0cfb584373ec7922766e67d00f34879c21ed73f14\n",
            "Successfully built pytesseract\n",
            "Installing collected packages: pytesseract\n",
            "Successfully installed pytesseract-0.3.5\n"
          ],
          "name": "stdout"
        }
      ]
    },
    {
      "cell_type": "code",
      "metadata": {
        "id": "4DmjENFFpd9w",
        "colab_type": "code",
        "colab": {
          "base_uri": "https://localhost:8080/",
          "height": 185
        },
        "outputId": "0f4f8773-073b-427f-8e91-8a6a0d1d3922"
      },
      "source": [
        "#Checking the installation.\n",
        "!tesseract --version"
      ],
      "execution_count": 6,
      "outputs": [
        {
          "output_type": "stream",
          "text": [
            "tesseract 4.1.1-rc2-25-g9707\n",
            " leptonica-1.78.0\n",
            "  libgif 5.1.4 : libjpeg 8d (libjpeg-turbo 1.5.2) : libpng 1.6.34 : libtiff 4.0.9 : zlib 1.2.11 : libwebp 0.6.1 : libopenjp2 2.3.0\n",
            " Found AVX512BW\n",
            " Found AVX512F\n",
            " Found AVX2\n",
            " Found AVX\n",
            " Found FMA\n",
            " Found SSE\n",
            " Found libarchive 3.2.2 zlib/1.2.11 liblzma/5.2.2 bz2lib/1.0.6 liblz4/1.7.1\n"
          ],
          "name": "stdout"
        }
      ]
    },
    {
      "cell_type": "markdown",
      "metadata": {
        "id": "0GHxCcNS3EhN",
        "colab_type": "text"
      },
      "source": [
        "#**Input Module:** This module saves the source image in the directory. By simply mounting your Google Drive. It retrives the image from which the text is to be extracted."
      ]
    },
    {
      "cell_type": "code",
      "metadata": {
        "colab_type": "code",
        "id": "QSUxFU4CZky7",
        "colab": {
          "base_uri": "https://localhost:8080/",
          "height": 34
        },
        "outputId": "75562fcc-1790-4642-95d4-14a66a1ed057"
      },
      "source": [
        "#Image Source Input Module \n",
        "from google.colab import drive\n",
        "drive.mount('/content/drive')\n",
        "\n",
        "filename = ('/content/drive/My Drive/test img4.png')\n",
        "\n"
      ],
      "execution_count": 19,
      "outputs": [
        {
          "output_type": "stream",
          "text": [
            "Drive already mounted at /content/drive; to attempt to forcibly remount, call drive.mount(\"/content/drive\", force_remount=True).\n"
          ],
          "name": "stdout"
        }
      ]
    },
    {
      "cell_type": "markdown",
      "metadata": {
        "id": "dvyFYwR7zZ59",
        "colab_type": "text"
      },
      "source": [
        "#Test image which can be used to test this project. \n",
        "####The drive path of image is mentioned by default in the Input Module \n",
        "\n",
        "\n",
        "---\n",
        "![alt text](https://www.researchgate.net/profile/Martin_Guggisberg/publication/224759117/figure/fig1/AS:393678939017226@1470871781226/Sample-handwritten-text-input-for-OCR.png)\n",
        "\n",
        "You can download test images and upload it to your google drive in order to test the application or you can use your own too.\n"
      ]
    },
    {
      "cell_type": "markdown",
      "metadata": {
        "id": "qzkn3o9H3QIc",
        "colab_type": "text"
      },
      "source": [
        "# Prediction Module"
      ]
    },
    {
      "cell_type": "code",
      "metadata": {
        "id": "jTrX8LtltFgX",
        "colab_type": "code",
        "colab": {
          "base_uri": "https://localhost:8080/",
          "height": 151
        },
        "outputId": "196edf1a-4cb5-4369-b3c5-72bbafa53c27"
      },
      "source": [
        "import cv2\n",
        "import numpy as np\n",
        "import pytesseract\n",
        "from PIL import Image\n",
        "\n",
        "# Path of working folder on Disk\n",
        "\n",
        "def get_string(img_path):\n",
        "    # Read image with opencv\n",
        "    img = cv2.imread(img_path)\n",
        "\n",
        "    # Convert to gray\n",
        "    img = cv2.cvtColor(img, cv2.COLOR_BGR2GRAY)\n",
        "\n",
        "    # Apply dilation and erosion to remove some noise\n",
        "    kernel = np.ones((1, 1), np.uint8)\n",
        "    img = cv2.dilate(img, kernel, iterations=1)\n",
        "    img = cv2.erode(img, kernel, iterations=1)\n",
        "\n",
        "    # Write image after removed noise\n",
        "    cv2.imwrite(\"test img4.png\", img)\n",
        "\n",
        "    #  Apply threshold to get image with only black and white\n",
        "    \n",
        "\n",
        "    # Write the image after apply opencv to do some ...\n",
        "    cv2.imwrite(img_path, img)\n",
        "\n",
        "    # Recognize text with tesseract for python\n",
        "    result = pytesseract.image_to_string(Image.open(img_path))\n",
        "\n",
        "    # Remove template file\n",
        "    \n",
        "\n",
        "    return result\n",
        "\n",
        "\n",
        "print (\"_____The Recognization Process Of Text From The Input Image Started Successfully______\")\n",
        "print (\"The Recognized Text From The Input Image IS:\")\n",
        "print (get_string(filename))\n",
        "\n",
        "print (\"_____Process Finished_______\")"
      ],
      "execution_count": 21,
      "outputs": [
        {
          "output_type": "stream",
          "text": [
            "_____The Recognization Process Of Text From The Input Image Started Successfully______\n",
            "The Recognized Text From The Input Image IS:\n",
            "This is a handwritten\n",
            "example\n",
            "\n",
            "Write as qooal as you can.\n",
            "\f\n",
            "_____Process Finished_______\n"
          ],
          "name": "stdout"
        }
      ]
    }
  ]
}